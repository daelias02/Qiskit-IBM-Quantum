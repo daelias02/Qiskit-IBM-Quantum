{
 "cells": [
  {
   "cell_type": "markdown",
   "metadata": {},
   "source": [
    "# Homework 1\n",
    "You should have downloaded the following files as well:\n",
    "1. matrix.csv\n",
    "2. stocks.csv\n",
    "\n",
    "Goal: Practice basic usage of jupyter notebook, numpy, scipy, pandas, and matplotlib. \n",
    "\n",
    "If you are unfamiliar with how to use certain functions, look up the documentation online. This skill will be very useful, in general. Alternatively, seek help from your TAs."
   ]
  },
  {
   "cell_type": "markdown",
   "metadata": {},
   "source": [
    "## 1 Basic numpy\n",
    "### 1.1 Load data with numpy\n",
    "[1 pt] load \"matrix.csv\" as a numpy array named $\\texttt{data}$. The imported array should be 20 rows by 3 columns. (Hint: You can use np.loadtxt(), make sure to specify correct delimiter argument.)"
   ]
  },
  {
   "cell_type": "code",
   "execution_count": 1,
   "metadata": {
    "scrolled": true
   },
   "outputs": [
    {
     "data": {
      "text/plain": [
       "array([[ 1.62434536, -0.61175641, -0.52817175],\n",
       "       [-1.07296862,  0.86540763, -2.3015387 ],\n",
       "       [ 1.74481176, -0.7612069 ,  0.3190391 ],\n",
       "       [-0.24937038,  1.46210794, -2.06014071],\n",
       "       [-0.3224172 , -0.38405435,  1.13376944],\n",
       "       [-1.09989127, -0.17242821, -0.87785842],\n",
       "       [ 0.04221375,  0.58281521, -1.10061918],\n",
       "       [ 1.14472371,  0.90159072,  0.50249434],\n",
       "       [ 0.90085595, -0.68372786, -0.12289023],\n",
       "       [-0.93576943, -0.26788808,  0.53035547],\n",
       "       [-0.69166075, -0.39675353, -0.6871727 ],\n",
       "       [-0.84520564, -0.67124613, -0.0126646 ],\n",
       "       [-1.11731035,  0.2344157 ,  1.65980218],\n",
       "       [ 0.74204416, -0.19183555, -0.88762896],\n",
       "       [-0.74715829,  1.6924546 ,  0.05080775],\n",
       "       [-0.63699565,  0.19091548,  2.10025514],\n",
       "       [ 0.12015895,  0.61720311,  0.30017032],\n",
       "       [-0.35224985, -1.1425182 , -0.34934272],\n",
       "       [-0.20889423,  0.58662319,  0.83898341],\n",
       "       [ 0.93110208,  0.28558733,  0.88514116]])"
      ]
     },
     "execution_count": 1,
     "metadata": {},
     "output_type": "execute_result"
    }
   ],
   "source": [
    "import numpy as np\n",
    "data = np.loadtxt(\"matrix.csv\", delimiter = ',')\n",
    "data #data is a 20x3 array"
   ]
  },
  {
   "cell_type": "markdown",
   "metadata": {},
   "source": [
    "### 1.2 Row sum\n",
    "1. [1 pt] Define array $\\texttt{rowsum}$ where each entry represents the row sum of matrix. Print $\\texttt{rowsum}$. (hint: use np.sum() function, make sure to use the correct axis)"
   ]
  },
  {
   "cell_type": "code",
   "execution_count": 2,
   "metadata": {},
   "outputs": [
    {
     "data": {
      "text/plain": [
       "array([ 0.4844172 , -2.50909969,  1.30264396, -0.84740315,  0.42729788,\n",
       "       -2.15017789, -0.47559022,  2.54880877,  0.09423786, -0.67330205,\n",
       "       -1.77558698, -1.52911637,  0.77690753, -0.33742036,  0.99610406,\n",
       "        1.65417497,  1.03753238, -1.84411077,  1.21671237,  2.10183057])"
      ]
     },
     "execution_count": 2,
     "metadata": {},
     "output_type": "execute_result"
    }
   ],
   "source": [
    "rowsum = np.sum(data, axis=1) #axis=1 makes sure to sum over all rows instead of columns\n",
    "\n",
    "\n",
    "rowsum\n",
    "\n",
    "\n",
    "    \n",
    "    "
   ]
  },
  {
   "cell_type": "markdown",
   "metadata": {},
   "source": [
    "2. [1 pt] Define array, $\\texttt{idx}$, containing indices of rowsum that have values greater than 1. Print $\\texttt{idx}$. (hint: use np.where() function)"
   ]
  },
  {
   "cell_type": "code",
   "execution_count": 3,
   "metadata": {},
   "outputs": [
    {
     "data": {
      "text/plain": [
       "(array([ 2,  7, 15, 16, 18, 19], dtype=int64),)"
      ]
     },
     "execution_count": 3,
     "metadata": {},
     "output_type": "execute_result"
    }
   ],
   "source": [
    "idx = np.where(rowsum > 1) #returns the indices of the rows that have a sum greater than 1\n",
    "\n",
    "idx\n",
    "\n"
   ]
  },
  {
   "cell_type": "markdown",
   "metadata": {},
   "source": [
    "### 1.3 Compute length\n",
    "Now, view each row of the 20 by 3 array as a vector in $\\mathbb{R}^3$.\n",
    "\n",
    "[1 pt] Find the (Euclidean) length of vector (i.e., each row), store it as $\\texttt{distances}$. Print the $\\texttt{distances}$. (You may compute it via formula or use numpy functions, in which case be careful you use the right arguments). "
   ]
  },
  {
   "cell_type": "code",
   "execution_count": 4,
   "metadata": {},
   "outputs": [
    {
     "data": {
      "text/plain": [
       "[1.8143068015044534,\n",
       " 2.682773267024715,\n",
       " 1.9301787438813751,\n",
       " 2.5385281063374405,\n",
       " 1.2397111555347358,\n",
       " 1.4177897194535354,\n",
       " 1.2461212408908033,\n",
       " 1.5413496553204376,\n",
       " 1.1375971317932485,\n",
       " 1.1084698364855634,\n",
       " 1.052622570696419,\n",
       " 1.079399989184009,\n",
       " 2.0145164188184785,\n",
       " 1.1727385016614438,\n",
       " 1.8507375611917625,\n",
       " 2.203016980038938,\n",
       " 0.6967640012776025,\n",
       " 1.2455794333840402,\n",
       " 1.0448237831933862,\n",
       " 1.3160494241631802]"
      ]
     },
     "execution_count": 4,
     "metadata": {},
     "output_type": "execute_result"
    }
   ],
   "source": [
    "distances = [0] * 20\n",
    "#iterate through each value in data\n",
    "for i in range(20):\n",
    "    for j in range(3):\n",
    "        distances[i] += data[i,j] * data[i,j]\n",
    "    \n",
    "    distances[i] = np.sqrt(distances[i]) #once we have squared each value, we take the square root outside of the inner loop\n",
    "\n",
    "distances"
   ]
  },
  {
   "cell_type": "markdown",
   "metadata": {},
   "source": [
    "### 1.4 Plot histogram\n",
    "Definition: A _density histogram_ is a histogram that is normalized so that the total area under the bars sums to unity. \n",
    "\n",
    "[2 pt] Using matplotlib, plot a density histogram of the length of vectors. Make your bins between 0.5 to 3.0, with increments of 0.5. (So, you should have 5 bins)"
   ]
  },
  {
   "cell_type": "code",
   "execution_count": 5,
   "metadata": {},
   "outputs": [
    {
     "data": {
      "image/png": "[encoded data removed]",
      "text/plain": [
       "<Figure size 640x480 with 1 Axes>"
      ]
     },
     "metadata": {},
     "output_type": "display_data"
    }
   ],
   "source": [
    "import matplotlib.pyplot as plt\n",
    "\n",
    "bins = np.arange(0.5, 3.5, 0.5) #bin between 0.5 to 3.5(not inclusive) with bin size 0.5\n",
    "\n",
    "plt.hist(distances, bins=bins, density=True, edgecolor='black', alpha=0.7)\n",
    "\n",
    "\n",
    "\n",
    "plt.xlabel('Vector Lengths')\n",
    "plt.ylabel('Density')\n",
    "plt.title('Density Histogram of Vector Lengths')\n",
    "\n",
    "plt.show()"
   ]
  },
  {
   "cell_type": "markdown",
   "metadata": {},
   "source": [
    "## 2 Sampling and statistics: stock returns\n",
    "### 2.1 Load data with pandas\n",
    "1. [1 pt] **Using pandas**, load \"stocks.csv\" on monthly stock returns from 1926 to 2021 ([source](https://mba.tuck.dartmouth.edu/pages/faculty/ken.french/data_library.html)) as $\\texttt{stocks}$. (Hint: use the pandas read_csv() function)\n",
    "2. [1 pt] Define numpy array $\\texttt{ret}$ as the values of the \"Mkt-RF\" column in the dataset. (Hint: use the .values method.)"
   ]
  },
  {
   "cell_type": "code",
   "execution_count": 6,
   "metadata": {},
   "outputs": [
    {
     "data": {
      "text/html": [
       "<div>\n",
       "<style scoped>\n",
       "    .dataframe tbody tr th:only-of-type {\n",
       "        vertical-align: middle;\n",
       "    }\n",
       "\n",
       "    .dataframe tbody tr th {\n",
       "        vertical-align: top;\n",
       "    }\n",
       "\n",
       "    .dataframe thead th {\n",
       "        text-align: right;\n",
       "    }\n",
       "</style>\n",
       "<table border=\"1\" class=\"dataframe\">\n",
       "  <thead>\n",
       "    <tr style=\"text-align: right;\">\n",
       "      <th></th>\n",
       "      <th>Mkt-RF</th>\n",
       "      <th>SMB</th>\n",
       "      <th>HML</th>\n",
       "      <th>RF</th>\n",
       "    </tr>\n",
       "  </thead>\n",
       "  <tbody>\n",
       "    <tr>\n",
       "      <th>0</th>\n",
       "      <td>2.96</td>\n",
       "      <td>-2.56</td>\n",
       "      <td>-2.43</td>\n",
       "      <td>0.22</td>\n",
       "    </tr>\n",
       "    <tr>\n",
       "      <th>1</th>\n",
       "      <td>2.64</td>\n",
       "      <td>-1.17</td>\n",
       "      <td>3.82</td>\n",
       "      <td>0.25</td>\n",
       "    </tr>\n",
       "    <tr>\n",
       "      <th>2</th>\n",
       "      <td>0.36</td>\n",
       "      <td>-1.40</td>\n",
       "      <td>0.13</td>\n",
       "      <td>0.23</td>\n",
       "    </tr>\n",
       "    <tr>\n",
       "      <th>3</th>\n",
       "      <td>-3.24</td>\n",
       "      <td>-0.09</td>\n",
       "      <td>0.70</td>\n",
       "      <td>0.32</td>\n",
       "    </tr>\n",
       "    <tr>\n",
       "      <th>4</th>\n",
       "      <td>2.53</td>\n",
       "      <td>-0.10</td>\n",
       "      <td>-0.51</td>\n",
       "      <td>0.31</td>\n",
       "    </tr>\n",
       "    <tr>\n",
       "      <th>...</th>\n",
       "      <td>...</td>\n",
       "      <td>...</td>\n",
       "      <td>...</td>\n",
       "      <td>...</td>\n",
       "    </tr>\n",
       "    <tr>\n",
       "      <th>1160</th>\n",
       "      <td>2.51</td>\n",
       "      <td>-5.51</td>\n",
       "      <td>-8.85</td>\n",
       "      <td>0.36</td>\n",
       "    </tr>\n",
       "    <tr>\n",
       "      <th>1161</th>\n",
       "      <td>0.61</td>\n",
       "      <td>-3.35</td>\n",
       "      <td>-0.04</td>\n",
       "      <td>0.35</td>\n",
       "    </tr>\n",
       "    <tr>\n",
       "      <th>1162</th>\n",
       "      <td>0.35</td>\n",
       "      <td>1.61</td>\n",
       "      <td>-7.72</td>\n",
       "      <td>0.36</td>\n",
       "    </tr>\n",
       "    <tr>\n",
       "      <th>1163</th>\n",
       "      <td>6.46</td>\n",
       "      <td>1.54</td>\n",
       "      <td>-0.26</td>\n",
       "      <td>0.40</td>\n",
       "    </tr>\n",
       "    <tr>\n",
       "      <th>1164</th>\n",
       "      <td>3.21</td>\n",
       "      <td>2.07</td>\n",
       "      <td>4.13</td>\n",
       "      <td>0.45</td>\n",
       "    </tr>\n",
       "  </tbody>\n",
       "</table>\n",
       "<p>1165 rows × 4 columns</p>\n",
       "</div>"
      ],
      "text/plain": [
       "      Mkt-RF   SMB   HML    RF\n",
       "0       2.96 -2.56 -2.43  0.22\n",
       "1       2.64 -1.17  3.82  0.25\n",
       "2       0.36 -1.40  0.13  0.23\n",
       "3      -3.24 -0.09  0.70  0.32\n",
       "4       2.53 -0.10 -0.51  0.31\n",
       "...      ...   ...   ...   ...\n",
       "1160    2.51 -5.51 -8.85  0.36\n",
       "1161    0.61 -3.35 -0.04  0.35\n",
       "1162    0.35  1.61 -7.72  0.36\n",
       "1163    6.46  1.54 -0.26  0.40\n",
       "1164    3.21  2.07  4.13  0.45\n",
       "\n",
       "[1165 rows x 4 columns]"
      ]
     },
     "execution_count": 6,
     "metadata": {},
     "output_type": "execute_result"
    }
   ],
   "source": [
    "import pandas as pd\n",
    "\n",
    "stocks = pd.read_csv(\"stocks.csv\")\n",
    "\n",
    "ret = stocks[\"Mkt-RF\"].values #this only pulls the Mkt-RF column values from stocks\n",
    "\n",
    "stocks"
   ]
  },
  {
   "cell_type": "markdown",
   "metadata": {},
   "source": [
    "### 2.2 Compute mean and std\n",
    "1. [1 pt] Define $\\texttt{n}$ as the number of entries/length of $\\texttt{ret}$. You must use some function which extracts the length or shape of $\\texttt{ret}$, i.e., not manually counting it.\n",
    "2. [1 pt] Define $\\texttt{ret\\_mean}$ as the mean of $\\texttt{ret}$.\n",
    "3. [1 pt] Define $\\texttt{ret\\_std}$ as the unbiased estimate of standard deviation of $\\texttt{ret}$.\n",
    "\n",
    "(You can use numpy or scipy functions to compute them. Unbiased estimates of std will affect degree of freedom argument.)"
   ]
  },
  {
   "cell_type": "code",
   "execution_count": 7,
   "metadata": {},
   "outputs": [
    {
     "data": {
      "text/plain": [
       "array([2.96, 2.64, 0.36, ..., 0.35, 6.46, 3.21])"
      ]
     },
     "execution_count": 7,
     "metadata": {},
     "output_type": "execute_result"
    }
   ],
   "source": [
    "ret"
   ]
  },
  {
   "cell_type": "code",
   "execution_count": 8,
   "metadata": {},
   "outputs": [
    {
     "data": {
      "text/plain": [
       "'ret_mean = 0.678506'"
      ]
     },
     "metadata": {},
     "output_type": "display_data"
    },
    {
     "data": {
      "text/plain": [
       "'ret_std = 5.344534'"
      ]
     },
     "metadata": {},
     "output_type": "display_data"
    },
    {
     "data": {
      "text/plain": [
       "'n = 1165.000000'"
      ]
     },
     "metadata": {},
     "output_type": "display_data"
    }
   ],
   "source": [
    "n = len(ret)\n",
    "\n",
    "ret_mean = np.mean(ret)\n",
    "\n",
    "ret_std = np.std(ret, ddof=1) #ddof=1 makes the standard deviation unbiased\n",
    "\n",
    "\n",
    "display(\"ret_mean = %f\" % ret_mean)\n",
    "\n",
    "display('ret_std = %f' % ret_std)\n",
    "\n",
    "display('n = %f' % n)"
   ]
  },
  {
   "cell_type": "markdown",
   "metadata": {},
   "source": [
    "### 2.3 Plot histogram\n",
    "1. [2 pts] Plot a density histogram of the returns $\\texttt{ret}$ with 100 equispaced bins from -30 to +40.\n",
    "\n",
    "2. [2 pts] On the same axes/figure, plot the PDF of a normal distribution over the histogram, with\n",
    "- mean equal to $\\texttt{ret\\_mean}$ and \n",
    "- standard deviation equal to $\\texttt{ret\\_std}$ \n",
    "\n",
    "(Hint: you can use scipy stats norm.pdf() function to help you)"
   ]
  },
  {
   "cell_type": "code",
   "execution_count": 9,
   "metadata": {},
   "outputs": [
    {
     "data": {
      "image/png": "[encoded data removed]",
      "text/plain": [
       "<Figure size 640x480 with 1 Axes>"
      ]
     },
     "metadata": {},
     "output_type": "display_data"
    }
   ],
   "source": [
    "from scipy.stats import norm\n",
    "\n",
    "\n",
    "#plot the ret values in 100 equispaced bins ranging from -30 to 40 \n",
    "plt.hist(ret, bins=100, range=(-30, 40), density=True, alpha=0.7, color='blue', label='Histogram')\n",
    "\n",
    "x = np.linspace(-30, 40, 1000)\n",
    "\n",
    "#pdf_values is an array that holds the output from inputting x values into a normal distribution\n",
    "pdf_values = norm.pdf(x, loc=ret_mean, scale=ret_std)\n",
    "plt.plot(x, pdf_values, 'r-', label='Normal Distribution PDF')\n",
    "\n",
    "plt.xlabel('Returns')\n",
    "plt.ylabel('Density')\n",
    "plt.title('Density Histogram and Normal Distribution PDF of Returns')\n",
    "plt.legend()\n",
    "\n",
    "plt.show()"
   ]
  },
  {
   "cell_type": "markdown",
   "metadata": {},
   "source": [
    "### 2.4 Skew and Kurtosis of ret\n",
    "[2 pt] What is the unbiased skew and kurtosis of $\\texttt{ret}$? Compute and print them to 5 decimal places. (You may use scipy.stats skew and kurtosis functions.)\n",
    "\n"
   ]
  },
  {
   "cell_type": "code",
   "execution_count": 10,
   "metadata": {},
   "outputs": [
    {
     "name": "stdout",
     "output_type": "stream",
     "text": [
      "Unbiased Skewness of Returns: 0.15628\n",
      "Unbiased Kurtosis of Returns: 7.45038\n"
     ]
    }
   ],
   "source": [
    "from scipy.stats import skew, kurtosis\n",
    "\n",
    "ret_skew = skew(ret, bias = False) \n",
    "ret_kurtosis = kurtosis(ret, bias = False) #bias=False ensures that kurtosis is unbiased\n",
    "\n",
    "\n",
    "print(f'Unbiased Skewness of Returns: {ret_skew:.5f}')\n",
    "print(f'Unbiased Kurtosis of Returns: {ret_kurtosis:.5f}')"
   ]
  },
  {
   "cell_type": "markdown",
   "metadata": {},
   "source": [
    "### 2.5 Generate data from normal distribution\n",
    "[1 pt] Repeat the following 10 times with a for-loop:\n",
    "\n",
    "1. [1 pt] Generate $n$ samples from the univariate normal distribution, storing it as $\\texttt{sim\\_data}$ with \n",
    "- mean equal $\\texttt{ret\\_mean}$ \n",
    "- standard deviation equal $\\texttt{ret\\_std}$\n",
    "- random_state equal to the index $\\texttt{i}$ of the for-loop\n",
    "\n",
    "(You can use norm.rvs() function.)\n",
    "\n",
    "2. [1 pt] What is the unbiased skew and kurtosis of these samples $\\texttt{sim\\_data}$? Print them to 5 decimal places, like in the previous part."
   ]
  },
  {
   "cell_type": "code",
   "execution_count": 11,
   "metadata": {},
   "outputs": [
    {
     "name": "stdout",
     "output_type": "stream",
     "text": [
      "Iteration 1: Unbiased Skewness: 0.04646, Unbiased Kurtosis: -0.02902\n",
      "Iteration 2: Unbiased Skewness: -0.06779, Unbiased Kurtosis: 0.20097\n",
      "Iteration 3: Unbiased Skewness: 0.18864, Unbiased Kurtosis: 0.23038\n",
      "Iteration 4: Unbiased Skewness: -0.01435, Unbiased Kurtosis: -0.05262\n",
      "Iteration 5: Unbiased Skewness: 0.08333, Unbiased Kurtosis: -0.07535\n",
      "Iteration 6: Unbiased Skewness: -0.02378, Unbiased Kurtosis: 0.17123\n",
      "Iteration 7: Unbiased Skewness: -0.09604, Unbiased Kurtosis: 0.04192\n",
      "Iteration 8: Unbiased Skewness: -0.07764, Unbiased Kurtosis: -0.14197\n",
      "Iteration 9: Unbiased Skewness: 0.00660, Unbiased Kurtosis: -0.04379\n",
      "Iteration 10: Unbiased Skewness: -0.07211, Unbiased Kurtosis: -0.12705\n"
     ]
    }
   ],
   "source": [
    "# initialize two arrays of size 10\n",
    "skewness_results = np.zeros(10)\n",
    "kurtosis_results = np.zeros(10)\n",
    "\n",
    "for i in range(10):\n",
    "    sim_data = norm.rvs(loc=ret_mean, scale=ret_std, size=n, random_state=i) #generates simulated data from normal RVs\n",
    "    \n",
    "    skewness_results[i] = skew(sim_data)\n",
    "    kurtosis_results[i] = kurtosis(sim_data)\n",
    "    print(f'Iteration {i+1}: Unbiased Skewness: {skewness_results[i]:.5f}, Unbiased Kurtosis: {kurtosis_results[i]:.5f}')\n",
    "\n"
   ]
  },
  {
   "cell_type": "code",
   "execution_count": 12,
   "metadata": {},
   "outputs": [
    {
     "data": {
      "text/plain": [
       "array([ 0.68443115, -0.86897161, -5.28634759, ...,  6.07925144,\n",
       "        5.0147149 ,  2.22277003])"
      ]
     },
     "execution_count": 12,
     "metadata": {},
     "output_type": "execute_result"
    }
   ],
   "source": [
    "sim_data"
   ]
  },
  {
   "cell_type": "markdown",
   "metadata": {},
   "source": [
    "### 2.6 Discuss if ret data is normally distributed\n",
    "[2 pt] Explain in what ways the stock returns do not resemble a normal distribution. Your response should compare skew and kurtosis you computed and the plots you generated in the previous parts.\n",
    "\n",
    "**Ans:** The kurtosis value that we get for stock returns tells us one significant way that our returns do not resemble a normal distribution. We expect the value to be close to 3 when working with a normal distribution, but the value we get is over 7. This means that \"extreme events\" (outliers) are much more likely to occur in the stock returns than they would be with a normal distribution. Based on the graph, we can see that the peak in the center of our histogram is much higher/more concentrated than we would expect with a normal distribution, and this is also explained by the large, positive kurtosis value."
   ]
  },
  {
   "cell_type": "markdown",
   "metadata": {},
   "source": []
  }
 ],
 "metadata": {
  "kernelspec": {
   "display_name": "Python 3 (ipykernel)",
   "language": "python",
   "name": "python3"
  },
  "language_info": {
   "codemirror_mode": {
    "name": "ipython",
    "version": 3
   },
   "file_extension": ".py",
   "mimetype": "text/x-python",
   "name": "python",
   "nbconvert_exporter": "python",
   "pygments_lexer": "ipython3",
   "version": "3.11.7"
  }
 },
 "nbformat": 4,
 "nbformat_minor": 4
}
