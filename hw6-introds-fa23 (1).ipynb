{
 "cells": [
  {
   "cell_type": "markdown",
   "id": "944ab4d2",
   "metadata": {},
   "source": [
    "# Homework 6 - Data Splitting, Decision Trees and Random Forests\n",
    "This homework will reinforce what you learned about the above classification algorithms by applying them to the pulsar dataset.\n",
    "\n",
    "You shold have downloaded:\n",
    "- pulsar.csv\n",
    "\n",
    "## 0 Load Data\n",
    "Pulsars are a rare type of Neutron star that produce radio emission detectable here on Earth. They are of considerable scientific interest as probes of space-time, the inter-stellar medium, and states of matter.\n",
    "\n",
    " You can read more (interesting!) details at ([source](https://archive.ics.uci.edu/ml/datasets/HTRU2)).\n",
    "\n",
    "`pulsar.csv`  contains statistics from two types of signal from pulsar candidates: \n",
    "1. integrated profile (IP) and \n",
    "2. dispersion-measure signal-to-noise ratio (DMSNR) curve. \n",
    "\n",
    "Run the cell below to see what data we have."
   ]
  },
  {
   "cell_type": "code",
   "execution_count": 1,
   "id": "382bf811",
   "metadata": {
    "scrolled": true
   },
   "outputs": [
    {
     "data": {
      "text/html": [
       "<div>\n",
       "<style scoped>\n",
       "    .dataframe tbody tr th:only-of-type {\n",
       "        vertical-align: middle;\n",
       "    }\n",
       "\n",
       "    .dataframe tbody tr th {\n",
       "        vertical-align: top;\n",
       "    }\n",
       "\n",
       "    .dataframe thead th {\n",
       "        text-align: right;\n",
       "    }\n",
       "</style>\n",
       "<table border=\"1\" class=\"dataframe\">\n",
       "  <thead>\n",
       "    <tr style=\"text-align: right;\">\n",
       "      <th></th>\n",
       "      <th>IP_Mean</th>\n",
       "      <th>IP_SD</th>\n",
       "      <th>IP_Kurt</th>\n",
       "      <th>IP_Skew</th>\n",
       "      <th>DMSNR_Mean</th>\n",
       "      <th>DMSNR_SD</th>\n",
       "      <th>DMSNR_Kurt</th>\n",
       "      <th>DMSNR_Skew</th>\n",
       "      <th>Pulsar</th>\n",
       "    </tr>\n",
       "  </thead>\n",
       "  <tbody>\n",
       "    <tr>\n",
       "      <th>0</th>\n",
       "      <td>140.562500</td>\n",
       "      <td>55.683782</td>\n",
       "      <td>-0.234571</td>\n",
       "      <td>-0.699648</td>\n",
       "      <td>3.199833</td>\n",
       "      <td>19.110426</td>\n",
       "      <td>7.975532</td>\n",
       "      <td>74.242225</td>\n",
       "      <td>0</td>\n",
       "    </tr>\n",
       "    <tr>\n",
       "      <th>1</th>\n",
       "      <td>102.507812</td>\n",
       "      <td>58.882430</td>\n",
       "      <td>0.465318</td>\n",
       "      <td>-0.515088</td>\n",
       "      <td>1.677258</td>\n",
       "      <td>14.860146</td>\n",
       "      <td>10.576487</td>\n",
       "      <td>127.393580</td>\n",
       "      <td>0</td>\n",
       "    </tr>\n",
       "    <tr>\n",
       "      <th>2</th>\n",
       "      <td>103.015625</td>\n",
       "      <td>39.341649</td>\n",
       "      <td>0.323328</td>\n",
       "      <td>1.051164</td>\n",
       "      <td>3.121237</td>\n",
       "      <td>21.744669</td>\n",
       "      <td>7.735822</td>\n",
       "      <td>63.171909</td>\n",
       "      <td>0</td>\n",
       "    </tr>\n",
       "    <tr>\n",
       "      <th>3</th>\n",
       "      <td>136.750000</td>\n",
       "      <td>57.178449</td>\n",
       "      <td>-0.068415</td>\n",
       "      <td>-0.636238</td>\n",
       "      <td>3.642977</td>\n",
       "      <td>20.959280</td>\n",
       "      <td>6.896499</td>\n",
       "      <td>53.593661</td>\n",
       "      <td>0</td>\n",
       "    </tr>\n",
       "    <tr>\n",
       "      <th>4</th>\n",
       "      <td>88.726562</td>\n",
       "      <td>40.672225</td>\n",
       "      <td>0.600866</td>\n",
       "      <td>1.123492</td>\n",
       "      <td>1.178930</td>\n",
       "      <td>11.468720</td>\n",
       "      <td>14.269573</td>\n",
       "      <td>252.567306</td>\n",
       "      <td>0</td>\n",
       "    </tr>\n",
       "    <tr>\n",
       "      <th>...</th>\n",
       "      <td>...</td>\n",
       "      <td>...</td>\n",
       "      <td>...</td>\n",
       "      <td>...</td>\n",
       "      <td>...</td>\n",
       "      <td>...</td>\n",
       "      <td>...</td>\n",
       "      <td>...</td>\n",
       "      <td>...</td>\n",
       "    </tr>\n",
       "    <tr>\n",
       "      <th>17893</th>\n",
       "      <td>136.429688</td>\n",
       "      <td>59.847421</td>\n",
       "      <td>-0.187846</td>\n",
       "      <td>-0.738123</td>\n",
       "      <td>1.296823</td>\n",
       "      <td>12.166062</td>\n",
       "      <td>15.450260</td>\n",
       "      <td>285.931022</td>\n",
       "      <td>0</td>\n",
       "    </tr>\n",
       "    <tr>\n",
       "      <th>17894</th>\n",
       "      <td>122.554688</td>\n",
       "      <td>49.485605</td>\n",
       "      <td>0.127978</td>\n",
       "      <td>0.323061</td>\n",
       "      <td>16.409699</td>\n",
       "      <td>44.626893</td>\n",
       "      <td>2.945244</td>\n",
       "      <td>8.297092</td>\n",
       "      <td>0</td>\n",
       "    </tr>\n",
       "    <tr>\n",
       "      <th>17895</th>\n",
       "      <td>119.335938</td>\n",
       "      <td>59.935939</td>\n",
       "      <td>0.159363</td>\n",
       "      <td>-0.743025</td>\n",
       "      <td>21.430602</td>\n",
       "      <td>58.872000</td>\n",
       "      <td>2.499517</td>\n",
       "      <td>4.595173</td>\n",
       "      <td>0</td>\n",
       "    </tr>\n",
       "    <tr>\n",
       "      <th>17896</th>\n",
       "      <td>114.507812</td>\n",
       "      <td>53.902400</td>\n",
       "      <td>0.201161</td>\n",
       "      <td>-0.024789</td>\n",
       "      <td>1.946488</td>\n",
       "      <td>13.381731</td>\n",
       "      <td>10.007967</td>\n",
       "      <td>134.238910</td>\n",
       "      <td>0</td>\n",
       "    </tr>\n",
       "    <tr>\n",
       "      <th>17897</th>\n",
       "      <td>57.062500</td>\n",
       "      <td>85.797340</td>\n",
       "      <td>1.406391</td>\n",
       "      <td>0.089520</td>\n",
       "      <td>188.306020</td>\n",
       "      <td>64.712562</td>\n",
       "      <td>-1.597527</td>\n",
       "      <td>1.429475</td>\n",
       "      <td>0</td>\n",
       "    </tr>\n",
       "  </tbody>\n",
       "</table>\n",
       "<p>17898 rows × 9 columns</p>\n",
       "</div>"
      ],
      "text/plain": [
       "          IP_Mean      IP_SD   IP_Kurt   IP_Skew  DMSNR_Mean   DMSNR_SD  \\\n",
       "0      140.562500  55.683782 -0.234571 -0.699648    3.199833  19.110426   \n",
       "1      102.507812  58.882430  0.465318 -0.515088    1.677258  14.860146   \n",
       "2      103.015625  39.341649  0.323328  1.051164    3.121237  21.744669   \n",
       "3      136.750000  57.178449 -0.068415 -0.636238    3.642977  20.959280   \n",
       "4       88.726562  40.672225  0.600866  1.123492    1.178930  11.468720   \n",
       "...           ...        ...       ...       ...         ...        ...   \n",
       "17893  136.429688  59.847421 -0.187846 -0.738123    1.296823  12.166062   \n",
       "17894  122.554688  49.485605  0.127978  0.323061   16.409699  44.626893   \n",
       "17895  119.335938  59.935939  0.159363 -0.743025   21.430602  58.872000   \n",
       "17896  114.507812  53.902400  0.201161 -0.024789    1.946488  13.381731   \n",
       "17897   57.062500  85.797340  1.406391  0.089520  188.306020  64.712562   \n",
       "\n",
       "       DMSNR_Kurt  DMSNR_Skew  Pulsar  \n",
       "0        7.975532   74.242225       0  \n",
       "1       10.576487  127.393580       0  \n",
       "2        7.735822   63.171909       0  \n",
       "3        6.896499   53.593661       0  \n",
       "4       14.269573  252.567306       0  \n",
       "...           ...         ...     ...  \n",
       "17893   15.450260  285.931022       0  \n",
       "17894    2.945244    8.297092       0  \n",
       "17895    2.499517    4.595173       0  \n",
       "17896   10.007967  134.238910       0  \n",
       "17897   -1.597527    1.429475       0  \n",
       "\n",
       "[17898 rows x 9 columns]"
      ]
     },
     "metadata": {},
     "output_type": "display_data"
    }
   ],
   "source": [
    "# ---------- DO NOT CHANGE CODE HERE ---------\n",
    "import numpy as np\n",
    "import pandas as pd\n",
    "import matplotlib.pyplot as plt\n",
    "\n",
    "data = pd.read_csv(\"pulsar.csv\")\n",
    "display(data)\n",
    "X = data.iloc[:,:8].to_numpy()\n",
    "y = data.iloc[:,8].to_numpy()\n",
    "# --------------------------------------------"
   ]
  },
  {
   "cell_type": "markdown",
   "id": "089887fc",
   "metadata": {},
   "source": [
    "## 1 Data Splitting (3 ways)\n",
    "There are many ways to split the training and test data. Here is a short exercise to learn and compare 3 such ways using `sklearn.model_selection`:\n",
    "1. `train_test_split`\n",
    "2. `KFold`\n",
    "3. `StratifiedShuffleSplit`\n",
    "\n",
    "**Read and understand** how the 3 methods work by reading the code demostration below.\n",
    "- You should know what every line of code is doing."
   ]
  },
  {
   "cell_type": "markdown",
   "id": "cbc07c4f",
   "metadata": {},
   "source": [
    "#### Method 1: train_test_split \n",
    "Using `sklearn.model_selection.train_test_split`, we split the data into training and test."
   ]
  },
  {
   "cell_type": "code",
   "execution_count": 2,
   "id": "19d1a31e",
   "metadata": {},
   "outputs": [
    {
     "name": "stdout",
     "output_type": "stream",
     "text": [
      "Training Set, Pulsars: 1481 out of 11932\n",
      "Test Set    , Pulsars: 158 out of 5966\n"
     ]
    }
   ],
   "source": [
    "# ---------- DO NOT CHANGE CODE HERE ---------\n",
    "from sklearn.model_selection import train_test_split\n",
    "\n",
    "X_train_tts, X_test_tts, y_train_tts, y_test_tts = train_test_split(X, y, test_size=1/3, shuffle=False)\n",
    "\n",
    "n_pulsar_train_tts = (y_train_tts==1).sum() #summing all of the pulsars in the training set\n",
    "n_pulsar_test_tts = (y_test_tts==1).sum() #summing all of the pulsars in the test set\n",
    "print(\"Training Set, Pulsars:\", n_pulsar_train_tts, \"out of\", y_train_tts.shape[0])\n",
    "print(\"Test Set    , Pulsars:\", n_pulsar_test_tts, \"out of\", y_test_tts.shape[0])\n",
    "# --------------------------------------------"
   ]
  },
  {
   "cell_type": "markdown",
   "id": "d171cea9",
   "metadata": {},
   "source": [
    "#### Method 2: K-Fold\n",
    "Using `sklearn.model_selection.KFold` on default shuffle settings, we split the data into training and test."
   ]
  },
  {
   "cell_type": "code",
   "execution_count": 3,
   "id": "739847ee",
   "metadata": {},
   "outputs": [
    {
     "name": "stdout",
     "output_type": "stream",
     "text": [
      "Training Set, Pulsars: 729 out of 11932\n",
      "Test Set    , Pulsars: 910 out of 5966 \n",
      "\n",
      "Training Set, Pulsars: 1068 out of 11932\n",
      "Test Set    , Pulsars: 571 out of 5966 \n",
      "\n",
      "Training Set, Pulsars: 1481 out of 11932\n",
      "Test Set    , Pulsars: 158 out of 5966 \n",
      "\n"
     ]
    }
   ],
   "source": [
    "# ---------- DO NOT CHANGE CODE HERE ---------\n",
    "from sklearn.model_selection import KFold\n",
    "kf = KFold(n_splits=3) #default: shuffle false \n",
    "\n",
    "for i, (train_idx_kf, test_idx_kf) in enumerate(kf.split(X)):\n",
    "    X_train_kf, y_train_kf = X[train_idx_kf], y[train_idx_kf]\n",
    "    X_test_kf, y_test_kf = X[test_idx_kf], y[test_idx_kf]\n",
    "\n",
    "    n_pulsar_train_kf = (y_train_kf==1).sum()\n",
    "    n_pulsar_test_kf = (y_test_kf==1).sum()\n",
    "    print(\"Training Set, Pulsars:\", n_pulsar_train_kf, \"out of\", y_train_kf.shape[0])\n",
    "    print(\"Test Set    , Pulsars:\", n_pulsar_test_kf, \"out of\", y_test_kf.shape[0], '\\n')\n",
    "# --------------------------------------------"
   ]
  },
  {
   "cell_type": "markdown",
   "id": "6d4f0e9d",
   "metadata": {},
   "source": [
    "#### Method 3: Stratified Shuffle Split\n",
    "Using `sklearn.model_selection.StratifiedShuffleSplit`, we split the data into training and test. "
   ]
  },
  {
   "cell_type": "code",
   "execution_count": 4,
   "id": "d7ef4cef",
   "metadata": {},
   "outputs": [
    {
     "name": "stdout",
     "output_type": "stream",
     "text": [
      "Training Set, Pulsars: 1093 out of 11932\n",
      "Test Set    , Pulsars: 546 out of 5966 \n",
      "\n",
      "Training Set, Pulsars: 1093 out of 11932\n",
      "Test Set    , Pulsars: 546 out of 5966 \n",
      "\n",
      "Training Set, Pulsars: 1093 out of 11932\n",
      "Test Set    , Pulsars: 546 out of 5966 \n",
      "\n"
     ]
    }
   ],
   "source": [
    "# ---------- DO NOT CHANGE CODE HERE ---------\n",
    "from sklearn.model_selection import StratifiedShuffleSplit\n",
    "\n",
    "sss = StratifiedShuffleSplit(n_splits=3, test_size=1/3, random_state=0)\n",
    "\n",
    "X_train_sss, y_train_sss, X_test_sss, y_test_sss = {}, {}, {}, {}\n",
    "for i, (train_idx, test_idx) in enumerate(sss.split(X, y)):\n",
    "    X_train_sss[i], y_train_sss[i] = X[train_idx], y[train_idx]\n",
    "    X_test_sss[i], y_test_sss[i] = X[test_idx], y[test_idx]\n",
    "\n",
    "    n_pulsar_train = (y_train_sss[i]==1).sum()\n",
    "    n_pulsar_test = (y_test_sss[i]==1).sum()\n",
    "    print(\"Training Set, Pulsars:\", n_pulsar_train, \"out of\", y_train_sss[i].shape[0])\n",
    "    print(\"Test Set    , Pulsars:\", n_pulsar_test, \"out of\", y_test_sss[i].shape[0], '\\n')\n",
    "# --------------------------------------------"
   ]
  },
  {
   "cell_type": "markdown",
   "id": "8031d040",
   "metadata": {},
   "source": [
    "### 1.1 Discussion (Stratified Shuffle Split)\n",
    "The number of pulsars in the training and test data for stratified shuffle split are identical.\n",
    "\n",
    "**Task:**\n",
    "1. [1 pt] Why are the number of pulsars identical for each stratified shuffle split? (i.e., what does \"stratified\" mean?)\n",
    "\n",
    "    **Ans:** \"Stratified\" means that the data is divided into groups based on certain characteristics of the data. In our case, stratified shuffle split makes sure that the ratio of pulsars in the training and test data remains the same(as the original data set) for each split. This is important because if we have unbalanced data, our splits could give so few of one class that our model is quite inaccurate - stratified shuffle split is generally used when we have unbalanced data.\n",
    "\n",
    "2. [1 pt] Using the code cell below, verify that the splits themselves are actually not identical. (Tip: use np.all(...), where ... is code you fill in yourself.)\n",
    "\n",
    "3. [1 pt] Why is the number of pulsars for stratified shuffle split different from those of train_test_split and KFold? A short answer will do.\n",
    "        \n",
    "    **Ans:** Stratified shuffle split makes sure that each split has the same number of pulsars, whereas train_test_split and KFold do not. Since train_test_split and KFold are random in terms of how many pulsars in the training/test data, they will almost always have a different number of pulsars than stratified shuffle split.\n"
   ]
  },
  {
   "cell_type": "code",
   "execution_count": 18,
   "id": "ebdaf296",
   "metadata": {},
   "outputs": [
    {
     "name": "stdout",
     "output_type": "stream",
     "text": [
      "No splits are identical\n"
     ]
    }
   ],
   "source": [
    "# TODO Use this cell to verify that all the splits from stratified shuffle split are different\n",
    "\n",
    "count_false = 0\n",
    "n_splits = 3  # Number of splits\n",
    "\n",
    "for i, (train_idx, test_idx) in enumerate(sss.split(X, y)):\n",
    "    next_split_idx = (i + 1) % n_splits  \n",
    "    # Calculate the index of split with mod 3 (n_splits) to eventually compare indeces 2 & 0\n",
    "    if np.all(X_train_sss[i] == X_train_sss[next_split_idx]):\n",
    "        count_false += 1\n",
    "\n",
    "if count_false > 0:\n",
    "    print(\"Some or all splits are identical\")\n",
    "else:\n",
    "    print(\"No splits are identical\")"
   ]
  },
  {
   "cell_type": "markdown",
   "id": "8f336c4d",
   "metadata": {},
   "source": [
    "### 1.2 Discussion (train_test_split and KFold)\n",
    "There is an identical match between the split for train_test_split and one of the splits for KFold. \n",
    "\n",
    "**Task:**\n",
    "1. [1 pt] Using the code cell below, verify that the split is indeed identical. (Tip: use np.all(...), where ... is code you fill in yourself.)\n",
    "\n",
    "2. [1 pt] Why does this identical match happen?  What settings or function/method arguments explain the occurence of this match?\n",
    "\n",
    "    **Ans:** This identical match happens because we set shuffle=False when we ran train_test_split which means instead of randomly choosing 1/3 of the data for our test data, we simply choose the last third of the data. In KFold without shuffling, if we choose 3 folds then we will always have the last third as a test sample at one point and then we will have an identical split with tts.\n"
   ]
  },
  {
   "cell_type": "code",
   "execution_count": 19,
   "id": "4abf4913",
   "metadata": {},
   "outputs": [
    {
     "name": "stdout",
     "output_type": "stream",
     "text": [
      "Last split is identical\n"
     ]
    }
   ],
   "source": [
    "# TODO Use this cell to verify that one of the splits from train_test_split and KFold are the same\n",
    "\n",
    "count_false = 0\n",
    "n_splits = 3  # Number of splits\n",
    "\n",
    "if np.all(X_train_kf == X_train_tts):\n",
    "    count_false += 1\n",
    "\n",
    "if count_false > 0:\n",
    "    print(\"Last split is identical\")\n",
    "else:\n",
    "    print(\"No splits are identical\")        \n",
    "    "
   ]
  },
  {
   "cell_type": "markdown",
   "id": "8ff83d34",
   "metadata": {},
   "source": [
    "Note: We are not checking each split in KFold because we actually don't have access to every split of KFold anymore. By the code cell of KFold above, we never create an array of the splits, we just keep replacing them after each iteration of the for loop. Therefore, we only have access to the last split - which ends up working out because that is the identical split."
   ]
  },
  {
   "cell_type": "markdown",
   "id": "da7ee339",
   "metadata": {},
   "source": [
    "## 2 Cross Validation\n",
    "\n",
    "### 2.1 sklearn cross val score\n",
    "**Task:**\n",
    "1. [2 pt] Use `sklearn.model_selection.cross_val_score` to perform cross validation on decision tree classifier\n",
    "    - Define your DecisionTreeClassifier as `clf`.\n",
    "    - Set `max_depth=9` and `random_state=0` in your DecisionTreeClassifier object.\n",
    "    - Perform a 3-fold validation in `cross_val_score`.\n",
    "    - Print the cross validation scores, this should be an array of three elements."
   ]
  },
  {
   "cell_type": "code",
   "execution_count": 20,
   "id": "6a3a625d",
   "metadata": {},
   "outputs": [
    {
     "name": "stdout",
     "output_type": "stream",
     "text": [
      "Cross-validation scores: [0.97536038 0.97234328 0.97385183]\n"
     ]
    }
   ],
   "source": [
    "from sklearn.tree import DecisionTreeClassifier\n",
    "from sklearn.model_selection import cross_val_score\n",
    "\n",
    "# TODO\n",
    "\n",
    "clf = DecisionTreeClassifier(max_depth=9, random_state=0)\n",
    "\n",
    "# Performing 3-fold cross-validation\n",
    "scores = cross_val_score(clf, X, y, cv=3)\n",
    "\n",
    "print(\"Cross-validation scores:\", scores)"
   ]
  },
  {
   "cell_type": "markdown",
   "id": "73d0c2b3",
   "metadata": {},
   "source": [
    "### 2.2 \"Manual\" cross val score \n",
    "**Task:**\n",
    "\n",
    "Run the code cell below.\n",
    "\n",
    "Based on the lecture Jupyter notebooks, the code below *should be* what the `cross_val_score` function performs. If it is what `cross_val_score` function is actually performing, we ought to see the same three validation scores printed.\n",
    "\n",
    "1. [1 pt] Read the documentation for [sklearn.model_selection.cross_val_score](https://scikit-learn.org/stable/modules/generated/sklearn.model_selection.cross_val_score.html). Pay attention to the description in the \"cv\" parameter. Why isn't the code below performing as we expected?\n",
    "\n",
    "    **Ans:** \"If the estimator is a classifier and y is either binary or multiclass, StratifiedKFold is used\" if CV is an integer. Therefore, the code below is not performing as expected because we were actually using a StratifiedKFold splitting method above instead of a normal KFold method. Stratified KFold guarantees that the number of pulsars is consistent throughout the splitting.\n",
    "\n",
    "2. [1 pt] Based on what you found was wrong with the code below, make a change to the splitting method (it may not be onethat we have previously discussed before, so read the documentation carefully) and print out the new cross validation scores. Make sure they match the previous cell. You should not need to change anything in the for-loop, just the code before it."
   ]
  },
  {
   "cell_type": "code",
   "execution_count": 21,
   "id": "56224271",
   "metadata": {},
   "outputs": [
    {
     "name": "stdout",
     "output_type": "stream",
     "text": [
      "0.9753603754609453\n",
      "0.9723432785786121\n",
      "0.9738518270197788\n"
     ]
    }
   ],
   "source": [
    "from sklearn.model_selection import StratifiedKFold\n",
    "k_fold = StratifiedKFold(n_splits=3, shuffle=False)\n",
    "\n",
    "# ---------- DO NOT CHANGE CODE HERE ---------\n",
    "for k, (train, test) in enumerate(k_fold.split(X,y)):\n",
    "    clf.fit(X[train],y[train])\n",
    "    ypred = clf.predict(X[test])\n",
    "    print ( clf.score(X[test],y[test]) )\n",
    "# --------------------------------------------"
   ]
  },
  {
   "cell_type": "markdown",
   "id": "42574fff",
   "metadata": {},
   "source": [
    "For Problems 3 and 4, we will use the following stratified shuffle split. Make sure you run the next cell to obtain the correct `X_train`, `y_train`, `X_test`, `y_test`."
   ]
  },
  {
   "cell_type": "code",
   "execution_count": 22,
   "id": "218e80e9",
   "metadata": {},
   "outputs": [],
   "source": [
    "# RUN THIS CELL!\n",
    "\n",
    "# ---------- DO NOT CHANGE CODE HERE ---------\n",
    "sss = StratifiedShuffleSplit(n_splits=1, test_size=1/3, random_state=0)\n",
    "for train_idx, test_idx in sss.split(X, y):\n",
    "    X_train, y_train = X[train_idx], y[train_idx]\n",
    "    X_test, y_test = X[test_idx], y[test_idx]\n",
    "# --------------------------------------------"
   ]
  },
  {
   "cell_type": "markdown",
   "id": "91039e13",
   "metadata": {},
   "source": [
    "## 3 Decision Tree"
   ]
  },
  {
   "cell_type": "markdown",
   "id": "aed4cf75",
   "metadata": {},
   "source": [
    "### 3.1 Train\n",
    "**Task:**\n",
    "\n",
    "[5 pt] Fit decision tree classifiers with different depths to the training data using `sklearn.tree.DecisionTreeClassifier`.\n",
    "- In the decision tree classifier, fix `random_state=0`. \n",
    "- Store the accuracy of the prediction on training and test data in the arrays `train_acc_dt` and `test_acc_dt` respectively.\n",
    "- Let `max_depth` vary from 1, 3, 5, ..., 19, 21. To do this, define array `depths` accordingly and run a for-loop over it."
   ]
  },
  {
   "cell_type": "code",
   "execution_count": 25,
   "id": "78c6857a",
   "metadata": {},
   "outputs": [],
   "source": [
    "from sklearn.metrics import accuracy_score\n",
    "\n",
    "# TODO\n",
    "depths = np.arange(1, 22, 2)\n",
    "train_acc_dt = []\n",
    "test_acc_dt = []\n",
    "\n",
    "for i, depth in enumerate(depths):\n",
    "    clf = DecisionTreeClassifier(max_depth=depth, random_state=0)\n",
    "    \n",
    "    clf.fit(X_train, y_train)  #\n",
    "    \n",
    "    # Predict on training data and calculate accuracy\n",
    "    train_pred = clf.predict(X_train)\n",
    "    train_acc = accuracy_score(y_train, train_pred)\n",
    "    train_acc_dt.append(train_acc)\n",
    "    \n",
    "    # Predict on test data and calculate accuracy\n",
    "    test_pred = clf.predict(X_test)\n",
    "    test_acc = accuracy_score(y_test, test_pred)\n",
    "    test_acc_dt.append(test_acc)\n",
    "    \n",
    "#print(train_acc_dt)\n",
    "#print(test_acc_dt)\n"
   ]
  },
  {
   "cell_type": "markdown",
   "id": "4a3e68af",
   "metadata": {},
   "source": [
    "### 3.2 Plot\n",
    "**Task:**\n",
    "\n",
    "[1 pt] Plot accuracy (test and training as seperate curves) against depth. Run the following cell."
   ]
  },
  {
   "cell_type": "code",
   "execution_count": 26,
   "id": "ae0e45f1",
   "metadata": {},
   "outputs": [
    {
     "data": {
      "image/png": "[encoded data removed]",
      "text/plain": [
       "<Figure size 640x480 with 1 Axes>"
      ]
     },
     "metadata": {},
     "output_type": "display_data"
    }
   ],
   "source": [
    "plt.plot(depths, train_acc_dt, 'o-', label='train')\n",
    "plt.plot(depths, test_acc_dt, 'o-', label='test')\n",
    "plt.xticks(depths); plt.xlabel('depth'); plt.ylabel('accuracy')\n",
    "plt.legend(); plt.grid(); plt.show()"
   ]
  },
  {
   "cell_type": "markdown",
   "id": "46192243",
   "metadata": {},
   "source": [
    "### 3.3 Discussion\n",
    "[2pts] What trends do you observe in the training and test accuracies as depth increases? Explain these trends. \n",
    "\n",
    "**Ans:** As the depth increases, training accuracy increases to almost 100% and testing accuracy decreases slightly.\n",
    "This probably happens due to overfitting, where as the depth increases, we start to capture noise and outliers which leads\n",
    "to a decrease in the accuracy of our test set."
   ]
  },
  {
   "cell_type": "markdown",
   "id": "3befd3b4",
   "metadata": {},
   "source": [
    "## 4 Random Forest\n",
    "### 4.1 Train\n",
    "**Task:**\n",
    "\n",
    "[5 pt] Fit random forest classifiers to the training data using `sklearn.ensemble.RandomForestClassifier`. \n",
    "- In the random forest classifier, fix `max_depth=3` and `random_state=0`.\n",
    "- Store the accuracy of the prediction on training and test data in the arrays `train_acc_rf` and `test_acc_rf` respectively.\n",
    "- Let `n_estimators` vary from 1, 11, 21, ..., 91, 101. To do this, define array `n_ests` accordingly and run a loop over it."
   ]
  },
  {
   "cell_type": "code",
   "execution_count": 27,
   "id": "c3045ede",
   "metadata": {},
   "outputs": [],
   "source": [
    "from sklearn.ensemble import RandomForestClassifier\n",
    "\n",
    "# TODO\n",
    "n_ests = np.arange(1, 102, 10)\n",
    "train_acc_rf = []\n",
    "test_acc_rf = []\n",
    "\n",
    "for i, n_est in enumerate(n_ests):\n",
    "    # Create a RandomForestClassifier with fixed max_depth=3, random_state=0, and varying n_estimators\n",
    "    clf_rf = RandomForestClassifier(n_estimators=n_est, max_depth=3, random_state=0)\n",
    "    \n",
    "    # Fit the classifier to the training data\n",
    "    clf_rf.fit(X_train, y_train)\n",
    "    \n",
    "    # Predict on training data and calculate accuracy\n",
    "    train_pred_rf = clf_rf.predict(X_train)\n",
    "    train_acc_rf.append(accuracy_score(y_train, train_pred_rf))\n",
    "    \n",
    "    # Predict on test data and calculate accuracy\n",
    "    test_pred_rf = clf_rf.predict(X_test)\n",
    "    test_acc_rf.append(accuracy_score(y_test, test_pred_rf))\n"
   ]
  },
  {
   "cell_type": "markdown",
   "id": "e4481c07",
   "metadata": {},
   "source": [
    "### 4.2 Plot\n",
    "[1 pt] Plot accuracy (test and training as seperate curves) against number of estimators. Run the following cell."
   ]
  },
  {
   "cell_type": "code",
   "execution_count": 28,
   "id": "8daedbab",
   "metadata": {},
   "outputs": [
    {
     "data": {
      "image/png": "[encoded data removed]",
      "text/plain": [
       "<Figure size 640x480 with 1 Axes>"
      ]
     },
     "metadata": {},
     "output_type": "display_data"
    }
   ],
   "source": [
    "plt.plot(n_ests, train_acc_rf, 'o-', label='train')\n",
    "plt.plot(n_ests, test_acc_rf, 'o-', label='test')\n",
    "plt.xticks(n_ests); plt.xlabel('num of estimators'); plt.ylabel('accuracy'); \n",
    "plt.legend(); plt.grid(); plt.show()"
   ]
  },
  {
   "cell_type": "markdown",
   "id": "9fa17a62",
   "metadata": {},
   "source": [
    "### 4.3 Discussion\n",
    "[1 pt] What trends do you observe in the training and test accuracies as `n_estimators` increases? Briefly explain why these trends occured. You are not expected to give an overly detailed response because the exact mechanism of random forest was not covered extensively in lecture.\n",
    "\n",
    "**Ans:** Both test and train accuracy increase until the number of estimators reaches around 41, then the\n",
    "accuracy begins to plateau. This could be the case because after a certain point, additional estimators will contribute less and less to the overall predictive power of the model.\n"
   ]
  },
  {
   "cell_type": "markdown",
   "id": "7ebaf680",
   "metadata": {},
   "source": []
  }
 ],
 "metadata": {
  "kernelspec": {
   "display_name": "Python 3 (ipykernel)",
   "language": "python",
   "name": "python3"
  },
  "language_info": {
   "codemirror_mode": {
    "name": "ipython",
    "version": 3
   },
   "file_extension": ".py",
   "mimetype": "text/x-python",
   "name": "python",
   "nbconvert_exporter": "python",
   "pygments_lexer": "ipython3",
   "version": "3.11.7"
  }
 },
 "nbformat": 4,
 "nbformat_minor": 5
}
